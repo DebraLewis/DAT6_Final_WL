{
 "metadata": {
  "name": "",
  "signature": "sha256:ded2802eca40a91ef228e3db471461ffd4fc940c85087b9d5cac69a85b0d76db"
 },
 "nbformat": 3,
 "nbformat_minor": 0,
 "worksheets": [
  {
   "cells": [
    {
     "cell_type": "code",
     "collapsed": false,
     "input": [
      "import pandas as pd\n",
      "import numpy as np\n",
      "from urlparse import urlparse\n",
      "import os  \n",
      "from pprint import pprint\n",
      "import twitter\n",
      "import yaml\n",
      "import requests\n",
      "from pymongo import MongoClient"
     ],
     "language": "python",
     "metadata": {},
     "outputs": [],
     "prompt_number": 299
    },
    {
     "cell_type": "code",
     "collapsed": false,
     "input": [
      "credentials = yaml.load(open(os.path.expanduser('~/api_cred.yml')))\n",
      "\n",
      "auth = twitter.oauth.OAuth(credentials['ACCESS_TOKEN'], \n",
      "                           credentials['ACCESS_TOKEN_SECRET'],\n",
      "                           credentials['API_KEY'],\n",
      "                           credentials['API_SECRET'])\n",
      "\n",
      "twitter_api = twitter.Twitter(auth=auth)\n"
     ],
     "language": "python",
     "metadata": {},
     "outputs": [],
     "prompt_number": 296
    },
    {
     "cell_type": "code",
     "collapsed": false,
     "input": [
      "dir(twitter_api)"
     ],
     "language": "python",
     "metadata": {},
     "outputs": [
      {
       "metadata": {},
       "output_type": "pyout",
       "prompt_number": 205,
       "text": [
        "['__call__',\n",
        " '__class__',\n",
        " '__delattr__',\n",
        " '__dict__',\n",
        " '__doc__',\n",
        " '__format__',\n",
        " '__getattr__',\n",
        " '__getattribute__',\n",
        " '__hash__',\n",
        " '__init__',\n",
        " '__module__',\n",
        " '__new__',\n",
        " '__reduce__',\n",
        " '__reduce_ex__',\n",
        " '__repr__',\n",
        " '__setattr__',\n",
        " '__sizeof__',\n",
        " '__str__',\n",
        " '__subclasshook__',\n",
        " '__weakref__',\n",
        " '_handle_response',\n",
        " 'auth',\n",
        " 'callable_cls',\n",
        " 'domain',\n",
        " 'format',\n",
        " 'gzip',\n",
        " 'secure',\n",
        " 'timeout',\n",
        " 'uri',\n",
        " 'uriparts']"
       ]
      }
     ],
     "prompt_number": 205
    },
    {
     "cell_type": "code",
     "collapsed": false,
     "input": [
      "al_ents = pd.read_csv('../data/al_ents.csv')"
     ],
     "language": "python",
     "metadata": {},
     "outputs": [],
     "prompt_number": 91
    },
    {
     "cell_type": "code",
     "collapsed": false,
     "input": [
      "#twi_url_sm = twitter_urls[0:10]\n",
      "#twi_url_sm[:5]"
     ],
     "language": "python",
     "metadata": {},
     "outputs": [],
     "prompt_number": 227
    },
    {
     "cell_type": "code",
     "collapsed": false,
     "input": [
      "# extract handles from 'tw_url'\n",
      "# al_ents['tw_handle']=al_ents[' tw_url'].apply(lambda x: str(x).replace('https://','').replace('http://','').replace('twitter.com/',''))"
     ],
     "language": "python",
     "metadata": {},
     "outputs": [],
     "prompt_number": 222
    },
    {
     "cell_type": "code",
     "collapsed": false,
     "input": [
      "al_ents.head()"
     ],
     "language": "python",
     "metadata": {},
     "outputs": [
      {
       "html": [
        "<div style=\"max-height:1000px;max-width:1500px;overflow:auto;\">\n",
        "<table border=\"1\" class=\"dataframe\">\n",
        "  <thead>\n",
        "    <tr style=\"text-align: right;\">\n",
        "      <th></th>\n",
        "      <th>id</th>\n",
        "      <th> name</th>\n",
        "      <th> tw_url</th>\n",
        "      <th> al_url</th>\n",
        "      <th> li_url</th>\n",
        "      <th>al_followers</th>\n",
        "      <th>tw_handle</th>\n",
        "      <th>tw_followers</th>\n",
        "    </tr>\n",
        "  </thead>\n",
        "  <tbody>\n",
        "    <tr>\n",
        "      <th>0</th>\n",
        "      <td>  1</td>\n",
        "      <td> Brandon Leonardo</td>\n",
        "      <td>        http://twitter.com/shiftb</td>\n",
        "      <td>       https://angel.co/brandon</td>\n",
        "      <td>                 http://linkedin.com/in/leonardo</td>\n",
        "      <td>   657</td>\n",
        "      <td>        shiftb</td>\n",
        "      <td> NaN</td>\n",
        "    </tr>\n",
        "    <tr>\n",
        "      <th>1</th>\n",
        "      <td>  2</td>\n",
        "      <td>       Babak Nivi</td>\n",
        "      <td> https://twitter.com/venturehacks</td>\n",
        "      <td>          https://angel.co/nivi</td>\n",
        "      <td>                http://www.linkedin.com/in/bnivi</td>\n",
        "      <td> 16641</td>\n",
        "      <td>  venturehacks</td>\n",
        "      <td> NaN</td>\n",
        "    </tr>\n",
        "    <tr>\n",
        "      <th>2</th>\n",
        "      <td> 12</td>\n",
        "      <td>       Jeff Fluhr</td>\n",
        "      <td>     http://twitter.com/jefffluhr</td>\n",
        "      <td>        https://angel.co/jfluhr</td>\n",
        "      <td> http://www.linkedin.com/pub/jeff-fluhr/0/168/26</td>\n",
        "      <td>  4092</td>\n",
        "      <td>     jefffluhr</td>\n",
        "      <td> NaN</td>\n",
        "    </tr>\n",
        "    <tr>\n",
        "      <th>3</th>\n",
        "      <td> 21</td>\n",
        "      <td>        Robb Kunz</td>\n",
        "      <td>      http://twitter.com/robbkunz</td>\n",
        "      <td>      https://angel.co/robbkunz</td>\n",
        "      <td>             http://www.linkedin.com/in/robbkunz</td>\n",
        "      <td>  1579</td>\n",
        "      <td>      robbkunz</td>\n",
        "      <td> NaN</td>\n",
        "    </tr>\n",
        "    <tr>\n",
        "      <th>4</th>\n",
        "      <td> 24</td>\n",
        "      <td>    Akash Agarwal</td>\n",
        "      <td> http://twitter.com/akash_agarwal</td>\n",
        "      <td> https://angel.co/akash_agarwal</td>\n",
        "      <td>             http://www.linkedin.com/in/aagarwal</td>\n",
        "      <td>   270</td>\n",
        "      <td> akash_agarwal</td>\n",
        "      <td> NaN</td>\n",
        "    </tr>\n",
        "  </tbody>\n",
        "</table>\n",
        "<p>5 rows \u00d7 8 columns</p>\n",
        "</div>"
       ],
       "metadata": {},
       "output_type": "pyout",
       "prompt_number": 219,
       "text": [
        "   id              name                            tw_url  \\\n",
        "0   1  Brandon Leonardo         http://twitter.com/shiftb   \n",
        "1   2        Babak Nivi  https://twitter.com/venturehacks   \n",
        "2  12        Jeff Fluhr      http://twitter.com/jefffluhr   \n",
        "3  21         Robb Kunz       http://twitter.com/robbkunz   \n",
        "4  24     Akash Agarwal  http://twitter.com/akash_agarwal   \n",
        "\n",
        "                           al_url  \\\n",
        "0        https://angel.co/brandon   \n",
        "1           https://angel.co/nivi   \n",
        "2         https://angel.co/jfluhr   \n",
        "3       https://angel.co/robbkunz   \n",
        "4  https://angel.co/akash_agarwal   \n",
        "\n",
        "                                            li_url al_followers  \\\n",
        "0                  http://linkedin.com/in/leonardo          657   \n",
        "1                 http://www.linkedin.com/in/bnivi        16641   \n",
        "2  http://www.linkedin.com/pub/jeff-fluhr/0/168/26         4092   \n",
        "3              http://www.linkedin.com/in/robbkunz         1579   \n",
        "4              http://www.linkedin.com/in/aagarwal          270   \n",
        "\n",
        "       tw_handle tw_followers  \n",
        "0         shiftb          NaN  \n",
        "1   venturehacks          NaN  \n",
        "2      jefffluhr          NaN  \n",
        "3       robbkunz          NaN  \n",
        "4  akash_agarwal          NaN  \n",
        "\n",
        "[5 rows x 8 columns]"
       ]
      }
     ],
     "prompt_number": 219
    },
    {
     "cell_type": "code",
     "collapsed": false,
     "input": [
      "al_ents.columns"
     ],
     "language": "python",
     "metadata": {},
     "outputs": [
      {
       "metadata": {},
       "output_type": "pyout",
       "prompt_number": 220,
       "text": [
        "Index([u'id', u' name', u' tw_url', u' al_url', u' li_url', u'al_followers', u'tw_handle', u'tw_followers'], dtype='object')"
       ]
      }
     ],
     "prompt_number": 220
    },
    {
     "cell_type": "code",
     "collapsed": false,
     "input": [
      "# save cleaned up DateFrame to CSV\n",
      "al_ents.to_csv('../data/al_ents_edited.csv', index=False, cols=('id',' name',' tw_url', ' li_url','al_followers', 'tw_handle', 'tw_followers' ))"
     ],
     "language": "python",
     "metadata": {},
     "outputs": [],
     "prompt_number": 223
    },
    {
     "cell_type": "code",
     "collapsed": false,
     "input": [],
     "language": "python",
     "metadata": {},
     "outputs": [
      {
       "metadata": {},
       "output_type": "pyout",
       "prompt_number": 108,
       "text": [
        "0           http://twitter.com/shiftb\n",
        "1    https://twitter.com/venturehacks\n",
        "2        http://twitter.com/jefffluhr\n",
        "3         http://twitter.com/robbkunz\n",
        "4    http://twitter.com/akash_agarwal\n",
        "Name:  tw_url, dtype: object"
       ]
      }
     ],
     "prompt_number": 108
    },
    {
     "cell_type": "code",
     "collapsed": false,
     "input": [
      "# twi_url_sm.apply(lambda x: x.replace('https://','').replace('http://','').replace('twitter.com/',''))"
     ],
     "language": "python",
     "metadata": {},
     "outputs": [
      {
       "metadata": {},
       "output_type": "pyout",
       "prompt_number": 164,
       "text": [
        "0           shiftb\n",
        "1     venturehacks\n",
        "2        jefffluhr\n",
        "3         robbkunz\n",
        "4    akash_agarwal\n",
        "5        amishjani\n",
        "6              jdh\n",
        "7        kalvepuri\n",
        "8      petelehrman\n",
        "9       sampullara\n",
        "Name:  tw_url, dtype: object"
       ]
      }
     ],
     "prompt_number": 164
    },
    {
     "cell_type": "code",
     "collapsed": false,
     "input": [
      "data = pd.read_csv('../data/al_ents_edited.csv')"
     ],
     "language": "python",
     "metadata": {},
     "outputs": [],
     "prompt_number": 229
    },
    {
     "cell_type": "code",
     "collapsed": false,
     "input": [
      "data.head()"
     ],
     "language": "python",
     "metadata": {},
     "outputs": [
      {
       "html": [
        "<div style=\"max-height:1000px;max-width:1500px;overflow:auto;\">\n",
        "<table border=\"1\" class=\"dataframe\">\n",
        "  <thead>\n",
        "    <tr style=\"text-align: right;\">\n",
        "      <th></th>\n",
        "      <th>id</th>\n",
        "      <th> name</th>\n",
        "      <th> tw_url</th>\n",
        "      <th> li_url</th>\n",
        "      <th>al_followers</th>\n",
        "      <th>tw_handle</th>\n",
        "      <th>tw_followers</th>\n",
        "    </tr>\n",
        "  </thead>\n",
        "  <tbody>\n",
        "    <tr>\n",
        "      <th>0</th>\n",
        "      <td>  1</td>\n",
        "      <td> Brandon Leonardo</td>\n",
        "      <td>        http://twitter.com/shiftb</td>\n",
        "      <td>                 http://linkedin.com/in/leonardo</td>\n",
        "      <td>   657</td>\n",
        "      <td>        shiftb</td>\n",
        "      <td> NaN</td>\n",
        "    </tr>\n",
        "    <tr>\n",
        "      <th>1</th>\n",
        "      <td>  2</td>\n",
        "      <td>       Babak Nivi</td>\n",
        "      <td> https://twitter.com/venturehacks</td>\n",
        "      <td>                http://www.linkedin.com/in/bnivi</td>\n",
        "      <td> 16641</td>\n",
        "      <td>  venturehacks</td>\n",
        "      <td> NaN</td>\n",
        "    </tr>\n",
        "    <tr>\n",
        "      <th>2</th>\n",
        "      <td> 12</td>\n",
        "      <td>       Jeff Fluhr</td>\n",
        "      <td>     http://twitter.com/jefffluhr</td>\n",
        "      <td> http://www.linkedin.com/pub/jeff-fluhr/0/168/26</td>\n",
        "      <td>  4092</td>\n",
        "      <td>     jefffluhr</td>\n",
        "      <td> NaN</td>\n",
        "    </tr>\n",
        "    <tr>\n",
        "      <th>3</th>\n",
        "      <td> 21</td>\n",
        "      <td>        Robb Kunz</td>\n",
        "      <td>      http://twitter.com/robbkunz</td>\n",
        "      <td>             http://www.linkedin.com/in/robbkunz</td>\n",
        "      <td>  1579</td>\n",
        "      <td>      robbkunz</td>\n",
        "      <td> NaN</td>\n",
        "    </tr>\n",
        "    <tr>\n",
        "      <th>4</th>\n",
        "      <td> 24</td>\n",
        "      <td>    Akash Agarwal</td>\n",
        "      <td> http://twitter.com/akash_agarwal</td>\n",
        "      <td>             http://www.linkedin.com/in/aagarwal</td>\n",
        "      <td>   270</td>\n",
        "      <td> akash_agarwal</td>\n",
        "      <td> NaN</td>\n",
        "    </tr>\n",
        "  </tbody>\n",
        "</table>\n",
        "<p>5 rows \u00d7 7 columns</p>\n",
        "</div>"
       ],
       "metadata": {},
       "output_type": "pyout",
       "prompt_number": 230,
       "text": [
        "   id              name                            tw_url  \\\n",
        "0   1  Brandon Leonardo         http://twitter.com/shiftb   \n",
        "1   2        Babak Nivi  https://twitter.com/venturehacks   \n",
        "2  12        Jeff Fluhr      http://twitter.com/jefffluhr   \n",
        "3  21         Robb Kunz       http://twitter.com/robbkunz   \n",
        "4  24     Akash Agarwal  http://twitter.com/akash_agarwal   \n",
        "\n",
        "                                            li_url al_followers  \\\n",
        "0                  http://linkedin.com/in/leonardo          657   \n",
        "1                 http://www.linkedin.com/in/bnivi        16641   \n",
        "2  http://www.linkedin.com/pub/jeff-fluhr/0/168/26         4092   \n",
        "3              http://www.linkedin.com/in/robbkunz         1579   \n",
        "4              http://www.linkedin.com/in/aagarwal          270   \n",
        "\n",
        "       tw_handle tw_followers  \n",
        "0         shiftb          NaN  \n",
        "1   venturehacks          NaN  \n",
        "2      jefffluhr          NaN  \n",
        "3       robbkunz          NaN  \n",
        "4  akash_agarwal          NaN  \n",
        "\n",
        "[5 rows x 7 columns]"
       ]
      }
     ],
     "prompt_number": 230
    },
    {
     "cell_type": "code",
     "collapsed": false,
     "input": [
      "data.tw_handle[10:15]"
     ],
     "language": "python",
     "metadata": {},
     "outputs": [
      {
       "metadata": {},
       "output_type": "pyout",
       "prompt_number": 264,
       "text": [
        "10       ryan_mcintyre\n",
        "11             #!/seth\n",
        "12       #!/crosscutvc\n",
        "13              abrams\n",
        "14    #!/bentsmithfour\n",
        "Name: tw_handle, dtype: object"
       ]
      }
     ],
     "prompt_number": 264
    },
    {
     "cell_type": "code",
     "collapsed": false,
     "input": [
      "for handle in data.tw_handle:\n",
      "    try: data.tw_handle.apply(lambda x: x.replace('#!/','').replace('@',''))\n",
      "    except:\n",
      "        continue"
     ],
     "language": "python",
     "metadata": {},
     "outputs": []
    },
    {
     "cell_type": "code",
     "collapsed": false,
     "input": [
      "# transform tw_handles to str and append str objects to new list called 'raw_handles'\n",
      "handles = []\n",
      "\n",
      "for handle in data.tw_handle:\n",
      "    str(handle).replace('#!/','')\n",
      "    handles.append(handle)\n",
      "    \n",
      "handles[10:15]"
     ],
     "language": "python",
     "metadata": {},
     "outputs": [
      {
       "metadata": {},
       "output_type": "pyout",
       "prompt_number": 348,
       "text": [
        "['ryan_mcintyre', '#!/seth', '#!/crosscutvc', 'abrams', '#!/bentsmithfour']"
       ]
      }
     ],
     "prompt_number": 348
    },
    {
     "cell_type": "code",
     "collapsed": false,
     "input": [
      "str_handles = [str(x) for x in str_handles]"
     ],
     "language": "python",
     "metadata": {},
     "outputs": [],
     "prompt_number": 346
    },
    {
     "cell_type": "code",
     "collapsed": false,
     "input": [
      "handles = [x.replace('#!/','') for x in str_handles]"
     ],
     "language": "python",
     "metadata": {},
     "outputs": [
      {
       "ename": "AttributeError",
       "evalue": "'float' object has no attribute 'replace'",
       "output_type": "pyerr",
       "traceback": [
        "\u001b[0;31m---------------------------------------------------------------------------\u001b[0m\n\u001b[0;31mAttributeError\u001b[0m                            Traceback (most recent call last)",
        "\u001b[0;32m<ipython-input-349-eea7ad119b70>\u001b[0m in \u001b[0;36m<module>\u001b[0;34m()\u001b[0m\n\u001b[0;32m----> 1\u001b[0;31m \u001b[0mhandles\u001b[0m \u001b[0;34m=\u001b[0m \u001b[0;34m[\u001b[0m\u001b[0mx\u001b[0m\u001b[0;34m.\u001b[0m\u001b[0mreplace\u001b[0m\u001b[0;34m(\u001b[0m\u001b[0;34m'#!/'\u001b[0m\u001b[0;34m,\u001b[0m\u001b[0;34m''\u001b[0m\u001b[0;34m)\u001b[0m \u001b[0;32mfor\u001b[0m \u001b[0mx\u001b[0m \u001b[0;32min\u001b[0m \u001b[0mstr_handles\u001b[0m\u001b[0;34m]\u001b[0m\u001b[0;34m\u001b[0m\u001b[0m\n\u001b[0m",
        "\u001b[0;31mAttributeError\u001b[0m: 'float' object has no attribute 'replace'"
       ]
      }
     ],
     "prompt_number": 349
    },
    {
     "cell_type": "code",
     "collapsed": false,
     "input": [
      "#WTF? \n",
      "\n",
      "errors = 0\n",
      "for x in handles:\n",
      "    try: x.replace('#!/','')\n",
      "    except:\n",
      "        errors = errors + 1\n",
      "        continue\n",
      "print errors"
     ],
     "language": "python",
     "metadata": {},
     "outputs": [
      {
       "output_type": "stream",
       "stream": "stdout",
       "text": [
        "22954\n"
       ]
      }
     ],
     "prompt_number": 353
    },
    {
     "cell_type": "code",
     "collapsed": false,
     "input": [
      "#example GET request url: https://api.twitter.com/1.1/users/lookup.json?screen_name=twitterapi\n",
      "# https://api.twitter.com/1.1/users/lookup.json?screen_name=shiftb\n",
      "\n",
      "def main(args):\n",
      "    ids = data['tw_handle']\n",
      "    _BASE_URL = \"https://api.twitter.com/1.1/users/lookup.json?screen_name=%%\"\n",
      "    errors = 0\n",
      "#    print \"user, follower\"\n",
      "#    ids = get_al_ids()\n",
      "    for id in ids:\n",
      "        url = _BASE_URL.replace('%%', id)\n",
      "        try:\n",
      "            r = requests.get(url).json()\n",
      "            if 'ids' in r and len(r['ids']) > 0:\n",
      "                for follower in r['ids']:\n",
      "                    print ','.join([str(id), str(follower)])\n",
      "        except:\n",
      "            errors = errors + 1\n",
      "            continue\n",
      "    print errors"
     ],
     "language": "python",
     "metadata": {},
     "outputs": [],
     "prompt_number": 312
    },
    {
     "cell_type": "code",
     "collapsed": false,
     "input": [],
     "language": "python",
     "metadata": {},
     "outputs": [],
     "prompt_number": 294
    },
    {
     "cell_type": "code",
     "collapsed": false,
     "input": [
      "from pprint import pprint\n",
      "\n",
      "#ids = data['tw_handle'][:5]\n",
      "#_BASE_URL = \"https://api.twitter.com/1.1/users/lookup.json?screen_name=%%\"\n",
      "\n",
      "for id in ids:\n",
      "     users = twitter_api.users.lookup(screen_name = id)\n",
      "#    url = _BASE_URL.replace('%%', id)\n",
      " #   r = requests.get(url).json()\n",
      "     pprint(users)"
     ],
     "language": "python",
     "metadata": {},
     "outputs": []
    },
    {
     "cell_type": "code",
     "collapsed": false,
     "input": [],
     "language": "python",
     "metadata": {},
     "outputs": []
    },
    {
     "cell_type": "code",
     "collapsed": false,
     "input": [
      "#establish connection with 'mongod'\n",
      "c = MongoClient()"
     ],
     "language": "python",
     "metadata": {},
     "outputs": [],
     "prompt_number": 309
    },
    {
     "cell_type": "code",
     "collapsed": false,
     "input": [
      "#create db called 'entrepreneurs'\n",
      "\n",
      "db = c.entrepreneurs"
     ],
     "language": "python",
     "metadata": {},
     "outputs": [],
     "prompt_number": 311
    },
    {
     "cell_type": "code",
     "collapsed": false,
     "input": [
      "twitter_api.users.lookup(screen_name = ids[0])"
     ],
     "language": "python",
     "metadata": {},
     "outputs": [
      {
       "metadata": {},
       "output_type": "pyout",
       "prompt_number": 303,
       "text": [
        "[{u'contributors_enabled': False,\n",
        "  u'created_at': u'Wed Feb 21 01:46:12 +0000 2007',\n",
        "  u'default_profile': False,\n",
        "  u'default_profile_image': False,\n",
        "  u'description': u\"I'm in the grocery business. Co-Founder @Instacart. Previously @AngelList, @TheStartupBus.\",\n",
        "  u'entities': {u'description': {u'urls': []},\n",
        "   u'url': {u'urls': [{u'display_url': u'brandonleonardo.com',\n",
        "      u'expanded_url': u'http://brandonleonardo.com',\n",
        "      u'indices': [0, 22],\n",
        "      u'url': u'http://t.co/9EH59OlA07'}]}},\n",
        "  u'favourites_count': 859,\n",
        "  u'follow_request_sent': False,\n",
        "  u'followers_count': 1255,\n",
        "  u'following': False,\n",
        "  u'friends_count': 504,\n",
        "  u'geo_enabled': True,\n",
        "  u'id': 785148,\n",
        "  u'id_str': u'785148',\n",
        "  u'is_translation_enabled': False,\n",
        "  u'is_translator': False,\n",
        "  u'lang': u'en',\n",
        "  u'listed_count': 64,\n",
        "  u'location': u'Silicon Valley',\n",
        "  u'name': u'Brandon Leonardo',\n",
        "  u'notifications': False,\n",
        "  u'profile_background_color': u'022330',\n",
        "  u'profile_background_image_url': u'http://abs.twimg.com/images/themes/theme15/bg.png',\n",
        "  u'profile_background_image_url_https': u'https://abs.twimg.com/images/themes/theme15/bg.png',\n",
        "  u'profile_background_tile': False,\n",
        "  u'profile_banner_url': u'https://pbs.twimg.com/profile_banners/785148/1391623583',\n",
        "  u'profile_image_url': u'http://pbs.twimg.com/profile_images/378800000299158775/0b99805c3246925366ac49320b042627_normal.jpeg',\n",
        "  u'profile_image_url_https': u'https://pbs.twimg.com/profile_images/378800000299158775/0b99805c3246925366ac49320b042627_normal.jpeg',\n",
        "  u'profile_link_color': u'0084B4',\n",
        "  u'profile_sidebar_border_color': u'FFFFFF',\n",
        "  u'profile_sidebar_fill_color': u'C0DFEC',\n",
        "  u'profile_text_color': u'333333',\n",
        "  u'profile_use_background_image': True,\n",
        "  u'protected': False,\n",
        "  u'screen_name': u'shiftb',\n",
        "  u'status': {u'contributors': None,\n",
        "   u'coordinates': None,\n",
        "   u'created_at': u'Tue Jun 03 18:42:02 +0000 2014',\n",
        "   u'entities': {u'hashtags': [],\n",
        "    u'symbols': [],\n",
        "    u'urls': [],\n",
        "    u'user_mentions': [{u'id': 8520,\n",
        "      u'id_str': u'8520',\n",
        "      u'indices': [0, 7],\n",
        "      u'name': u'David Kadavy',\n",
        "      u'screen_name': u'kadavy'},\n",
        "     {u'id': 11740902,\n",
        "      u'id_str': u'11740902',\n",
        "      u'indices': [8, 17],\n",
        "      u'name': u'Tim Ferriss',\n",
        "      u'screen_name': u'tferriss'},\n",
        "     {u'id': 143882311,\n",
        "      u'id_str': u'143882311',\n",
        "      u'indices': [18, 34],\n",
        "      u'name': u'\\u028e\\u01dd\\u0279ds\\u0250 \\u01dd\\u028c\\u0250p',\n",
        "      u'screen_name': u'bulletproofexec'}]},\n",
        "   u'favorite_count': 0,\n",
        "   u'favorited': False,\n",
        "   u'geo': None,\n",
        "   u'id': 473897411920687105,\n",
        "   u'id_str': u'473897411920687105',\n",
        "   u'in_reply_to_screen_name': u'kadavy',\n",
        "   u'in_reply_to_status_id': 473896150417018880,\n",
        "   u'in_reply_to_status_id_str': u'473896150417018880',\n",
        "   u'in_reply_to_user_id': 8520,\n",
        "   u'in_reply_to_user_id_str': u'8520',\n",
        "   u'lang': u'en',\n",
        "   u'place': None,\n",
        "   u'retweet_count': 0,\n",
        "   u'retweeted': False,\n",
        "   u'source': u'<a href=\"http://twitter.com\" rel=\"nofollow\">Twitter Web Client</a>',\n",
        "   u'text': u'@kadavy @tferriss @bulletproofexec you watch shark tank?',\n",
        "   u'truncated': False},\n",
        "  u'statuses_count': 6761,\n",
        "  u'time_zone': u'Pacific Time (US & Canada)',\n",
        "  u'url': u'http://t.co/9EH59OlA07',\n",
        "  u'utc_offset': -25200,\n",
        "  u'verified': False}]"
       ]
      }
     ],
     "prompt_number": 303
    },
    {
     "cell_type": "code",
     "collapsed": false,
     "input": [
      "response = twitter_api.users.lookup(screen_name = ids[0])\n",
      "\n",
      "statuses = search_results['statuses']"
     ],
     "language": "python",
     "metadata": {},
     "outputs": []
    },
    {
     "cell_type": "code",
     "collapsed": false,
     "input": [
      "statuses_ids = db.tweets.insert(statuses)\n",
      "statuses_ids[:5]"
     ],
     "language": "python",
     "metadata": {},
     "outputs": []
    }
   ],
   "metadata": {}
  }
 ]
}